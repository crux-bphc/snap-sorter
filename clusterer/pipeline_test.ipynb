{
 "cells": [
  {
   "attachments": {},
   "cell_type": "markdown",
   "metadata": {},
   "source": [
    "# Test for inference pipeline"
   ]
  },
  {
   "cell_type": "code",
   "execution_count": 1,
   "metadata": {},
   "outputs": [
    {
     "name": "stderr",
     "output_type": "stream",
     "text": [
      "/home/shail/projects/dl/env/lib/python3.10/site-packages/tqdm/auto.py:21: TqdmWarning: IProgress not found. Please update jupyter and ipywidgets. See https://ipywidgets.readthedocs.io/en/stable/user_install.html\n",
      "  from .autonotebook import tqdm as notebook_tqdm\n"
     ]
    }
   ],
   "source": [
    "from inference import EmbeddingPipeline\n",
    "import pipeline as pl\n",
    "import datapoint_clusterer as dc\n",
    "import os"
   ]
  },
  {
   "cell_type": "code",
   "execution_count": 2,
   "metadata": {},
   "outputs": [],
   "source": [
    "ep = EmbeddingPipeline()"
   ]
  },
  {
   "cell_type": "code",
   "execution_count": 3,
   "metadata": {},
   "outputs": [
    {
     "data": {
      "text/plain": [
       "512"
      ]
     },
     "execution_count": 3,
     "metadata": {},
     "output_type": "execute_result"
    }
   ],
   "source": [
    "embedding = ep(\"faces/val/Brad Pitt/040_9b4bfe5b.jpg\")\n",
    "embedding.size"
   ]
  },
  {
   "cell_type": "code",
   "execution_count": 4,
   "metadata": {},
   "outputs": [
    {
     "name": "stdout",
     "output_type": "stream",
     "text": [
      "Written succesfully!\n"
     ]
    }
   ],
   "source": [
    "pl.write_datapoints(\"faces/val\", \"datapoints.pkl\")"
   ]
  },
  {
   "cell_type": "code",
   "execution_count": 5,
   "metadata": {},
   "outputs": [
    {
     "name": "stdout",
     "output_type": "stream",
     "text": [
      "Read!!\n",
      "Written succesfully!\n"
     ]
    }
   ],
   "source": [
    "pl.cluster_from_file(\"datapoints.pkl\", \"clusters.pkl\", 21)"
   ]
  },
  {
   "cell_type": "code",
   "execution_count": 6,
   "metadata": {},
   "outputs": [
    {
     "name": "stdout",
     "output_type": "stream",
     "text": [
      "Read!!\n"
     ]
    }
   ],
   "source": [
    "clusters = dc.read_clusters(\"clusters.pkl\")"
   ]
  },
  {
   "cell_type": "code",
   "execution_count": 7,
   "metadata": {},
   "outputs": [
    {
     "data": {
      "text/plain": [
       "2"
      ]
     },
     "execution_count": 7,
     "metadata": {},
     "output_type": "execute_result"
    }
   ],
   "source": [
    "len(clusters)"
   ]
  },
  {
   "cell_type": "code",
   "execution_count": 8,
   "metadata": {},
   "outputs": [
    {
     "data": {
      "text/plain": [
       "array([0, 0])"
      ]
     },
     "execution_count": 8,
     "metadata": {},
     "output_type": "execute_result"
    }
   ],
   "source": [
    "pl.get_cluster_ids(clusters, \"faces/val/Hugh Jackman/094_bcb2a8f4.jpg\")"
   ]
  },
  {
   "cell_type": "code",
   "execution_count": 9,
   "metadata": {},
   "outputs": [
    {
     "name": "stdout",
     "output_type": "stream",
     "text": [
      "path: faces/val/Jennifer Lawrence/080_7e43a953.jpg\tids: [0 0]\n",
      "path: faces/val/Jennifer Lawrence/027_3290d1bc.jpg\tids: [0]\n",
      "path: faces/val/Jennifer Lawrence/074_ed2be25f.jpg\tids: [-1]\n",
      "path: faces/val/Jennifer Lawrence/022_e214ba9f.jpg\tids: [-1  0  0]\n",
      "path: faces/val/Jennifer Lawrence/055_7b8dfc3a.jpg\tids: [0]\n",
      "path: faces/val/Jennifer Lawrence/085_b2827d47.jpg\tids: [-1]\n",
      "path: faces/val/Jennifer Lawrence/091_e8f3497f.jpg\tids: [0]\n",
      "path: faces/val/Jennifer Lawrence/047_6e08a927.jpg\tids: [-1]\n",
      "path: faces/val/Jennifer Lawrence/043_cccb0e88.jpg\tids: [0 0 0 0 0 0 0]\n",
      "path: faces/val/Jennifer Lawrence/069_bdd7c91d.jpg\tids: [-1]\n",
      "path: faces/val/Jennifer Lawrence/014_0100b141.jpg\tids: [0]\n",
      "path: faces/val/Jennifer Lawrence/050_f545b0ea.jpg\tids: [0]\n",
      "path: faces/val/Jennifer Lawrence/089_152cf5f6.jpg\tids: [-1]\n",
      "path: faces/val/Jennifer Lawrence/082_2251d7b7.jpg\tids: [0 0]\n",
      "path: faces/val/Jennifer Lawrence/040_b392a367.jpg\tids: [-1]\n",
      "path: faces/val/Jennifer Lawrence/094_c0a66044.jpg\tids: [-1]\n",
      "path: faces/val/Jennifer Lawrence/097_f19b4cfc.jpg\tids: [-1]\n",
      "path: faces/val/Jennifer Lawrence/052_f7f4e937.jpg\tids: [-1]\n",
      "path: faces/val/Jennifer Lawrence/075_5a5afdfa.jpg\tids: [-1]\n",
      "path: faces/val/Jennifer Lawrence/051_2aace444.jpg\tids: [-1]\n",
      "path: faces/val/Hugh Jackman/014_07f2f9cb.jpg\tids: [-1]\n",
      "path: faces/val/Hugh Jackman/091_2ace2ad8.jpg\tids: [-1]\n",
      "path: faces/val/Hugh Jackman/047_54ea04fa.jpg\tids: [-1]\n",
      "path: faces/val/Hugh Jackman/097_21a9bff5.jpg\tids: [-1]\n",
      "path: faces/val/Hugh Jackman/082_bf5ea9df.jpg\tids: [-1]\n",
      "path: faces/val/Hugh Jackman/040_4baf02be.jpg\tids: [0]\n",
      "path: faces/val/Hugh Jackman/075_31d85976.jpg\tids: [0]\n",
      "path: faces/val/Hugh Jackman/085_394c2c3c.jpg\tids: [-1]\n",
      "path: faces/val/Hugh Jackman/027_ded82a08.jpg\tids: [0]\n",
      "path: faces/val/Hugh Jackman/080_52addc92.jpg\tids: [0]\n",
      "path: faces/val/Hugh Jackman/043_1d38d614.jpg\tids: [0]\n",
      "path: faces/val/Hugh Jackman/069_429fc9ee.jpg\tids: [-1]\n",
      "path: faces/val/Hugh Jackman/052_f394c931.jpg\tids: [-1]\n",
      "path: faces/val/Hugh Jackman/094_bcb2a8f4.jpg\tids: [0 0]\n",
      "path: faces/val/Hugh Jackman/089_a49ffdf2.jpg\tids: [0]\n",
      "path: faces/val/Hugh Jackman/022_9b0e7dc8.jpg\tids: [-1]\n",
      "path: faces/val/Hugh Jackman/051_12956682.jpg\tids: [0]\n",
      "path: faces/val/Hugh Jackman/074_d205687c.jpg\tids: [-1]\n",
      "path: faces/val/Hugh Jackman/050_509d326a.jpg\tids: [-1]\n",
      "path: faces/val/Hugh Jackman/055_bfeb8aab.jpg\tids: [ 0 -1 -1]\n",
      "path: faces/val/Angelina Jolie/047_5350c8c0.jpg\tids: [-1]\n",
      "path: faces/val/Angelina Jolie/097_9a6bf61f.jpg\tids: [-1]\n",
      "path: faces/val/Angelina Jolie/050_7c5b026c.jpg\tids: [-1]\n",
      "path: faces/val/Angelina Jolie/014_0d29db88.jpg\tids: [-1]\n",
      "path: faces/val/Angelina Jolie/094_c255b703.jpg\tids: [-1]\n",
      "path: faces/val/Angelina Jolie/082_047778bb.jpg\tids: [-1]\n",
      "path: faces/val/Angelina Jolie/075_4c504eec.jpg\tids: [-1]\n",
      "path: faces/val/Angelina Jolie/089_33e36564.jpg\tids: [-1]\n",
      "path: faces/val/Angelina Jolie/055_aaaf063c.jpg\tids: [0]\n",
      "path: faces/val/Angelina Jolie/085_f579db33.jpg\tids: [-1]\n",
      "path: faces/val/Angelina Jolie/051_268fdfd7.jpg\tids: [-1]\n",
      "path: faces/val/Angelina Jolie/091_b5b4a62f.jpg\tids: [-1]\n",
      "path: faces/val/Angelina Jolie/040_2ef814c7.jpg\tids: [0]\n",
      "path: faces/val/Angelina Jolie/043_b812749f.jpg\tids: [-1]\n",
      "path: faces/val/Angelina Jolie/080_e998ab00.jpg\tids: [-1  0]\n",
      "path: faces/val/Angelina Jolie/052_6db5f5bf.jpg\tids: [-1]\n",
      "path: faces/val/Angelina Jolie/027_58887f30.jpg\tids: [0]\n",
      "path: faces/val/Angelina Jolie/022_b497b92e.jpg\tids: [-1]\n",
      "path: faces/val/Angelina Jolie/069_9d0e44d5.jpg\tids: [-1]\n",
      "path: faces/val/Angelina Jolie/074_0ec79719.jpg\tids: [-1]\n",
      "path: faces/val/Brad Pitt/069_8533eee4.jpg\tids: [0]\n",
      "path: faces/val/Brad Pitt/050_3e39c960.jpg\tids: [-1]\n",
      "path: faces/val/Brad Pitt/055_14a5e7bc.jpg\tids: [-1]\n",
      "path: faces/val/Brad Pitt/094_16e562f0.jpg\tids: [0]\n",
      "path: faces/val/Brad Pitt/022_a8206d1a.jpg\tids: [-1]\n",
      "path: faces/val/Brad Pitt/051_fd8a292f.jpg\tids: [0]\n",
      "path: faces/val/Brad Pitt/085_5c4b6432.jpg\tids: [-1]\n",
      "path: faces/val/Brad Pitt/097_df404aa1.jpg\tids: [0]\n",
      "path: faces/val/Brad Pitt/040_9b4bfe5b.jpg\tids: [0]\n",
      "path: faces/val/Brad Pitt/080_569bb446.jpg\tids: [-1 -1]\n",
      "path: faces/val/Brad Pitt/043_6973a308.jpg\tids: [-1]\n",
      "path: faces/val/Brad Pitt/074_6f4720aa.jpg\tids: [-1]\n",
      "path: faces/val/Brad Pitt/089_7a7d2c5d.jpg\tids: [-1]\n",
      "path: faces/val/Brad Pitt/075_a7a83d60.jpg\tids: [0]\n",
      "path: faces/val/Brad Pitt/027_78f200c3.jpg\tids: [0]\n",
      "path: faces/val/Brad Pitt/091_8561b34e.jpg\tids: [0]\n",
      "path: faces/val/Brad Pitt/082_545afee5.jpg\tids: [0]\n",
      "path: faces/val/Brad Pitt/047_80045019.jpg\tids: [-1 -1  0]\n",
      "path: faces/val/Brad Pitt/052_b80b0a3f.jpg\tids: [0]\n",
      "path: faces/val/Brad Pitt/014_871b0d80.jpg\tids: [0]\n",
      "path: faces/val/Johnny Depp/082_742073a1.jpg\tids: [0]\n",
      "path: faces/val/Johnny Depp/051_2505e244.jpg\tids: [-1]\n",
      "path: faces/val/Johnny Depp/050_6641bd32.jpg\tids: [0]\n",
      "path: faces/val/Johnny Depp/052_e2e5ef6b.jpg\tids: [-1  0]\n",
      "path: faces/val/Johnny Depp/080_38c2109a.jpg\tids: [-1]\n",
      "path: faces/val/Johnny Depp/094_42a45a8d.jpg\tids: [-1]\n",
      "path: faces/val/Johnny Depp/089_2f2e823a.jpg\tids: [0]\n",
      "path: faces/val/Johnny Depp/074_bd6f3a84.jpg\tids: [0]\n",
      "path: faces/val/Johnny Depp/047_6c6a66d2.jpg\tids: [0]\n",
      "path: faces/val/Johnny Depp/069_2b2270ce.jpg\tids: [-1]\n",
      "path: faces/val/Johnny Depp/022_a0763313.jpg\tids: [-1]\n",
      "path: faces/val/Johnny Depp/043_77e393de.jpg\tids: [0]\n",
      "path: faces/val/Johnny Depp/014_68248214.jpg\tids: [0]\n",
      "path: faces/val/Johnny Depp/091_c3ad83af.jpg\tids: [-1]\n",
      "path: faces/val/Johnny Depp/055_cf9af56c.jpg\tids: [-1]\n",
      "path: faces/val/Johnny Depp/085_e9f6ea07.jpg\tids: [-1]\n",
      "path: faces/val/Johnny Depp/075_21e87f0f.jpg\tids: [0]\n",
      "path: faces/val/Johnny Depp/040_2e8934ea.jpg\tids: [0]\n",
      "path: faces/val/Johnny Depp/097_11415581.jpg\tids: [-1]\n",
      "path: faces/val/Johnny Depp/027_2eab41f9.jpg\tids: [-1]\n"
     ]
    }
   ],
   "source": [
    "for root, _, filenames in os.walk(\"faces/val\"):\n",
    "    for filename in filenames:\n",
    "        path = os.path.join(root, filename)\n",
    "        print(f\"path: {path}\\tids: {pl.get_cluster_ids(clusters, path)}\")"
   ]
  }
 ],
 "metadata": {
  "kernelspec": {
   "display_name": "cvenv",
   "language": "python",
   "name": "python3"
  },
  "language_info": {
   "codemirror_mode": {
    "name": "ipython",
    "version": 3
   },
   "file_extension": ".py",
   "mimetype": "text/x-python",
   "name": "python",
   "nbconvert_exporter": "python",
   "pygments_lexer": "ipython3",
   "version": "3.10.6"
  },
  "orig_nbformat": 4
 },
 "nbformat": 4,
 "nbformat_minor": 2
}
