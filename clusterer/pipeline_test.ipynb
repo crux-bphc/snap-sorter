{
 "cells": [
  {
   "attachments": {},
   "cell_type": "markdown",
   "metadata": {},
   "source": [
    "# Test for inference pipeline"
   ]
  },
  {
   "cell_type": "code",
   "execution_count": 2,
   "metadata": {},
   "outputs": [
    {
     "name": "stderr",
     "output_type": "stream",
     "text": [
      "/home/shail/projects/cv/cvenv/lib/python3.10/site-packages/tqdm/auto.py:21: TqdmWarning: IProgress not found. Please update jupyter and ipywidgets. See https://ipywidgets.readthedocs.io/en/stable/user_install.html\n",
      "  from .autonotebook import tqdm as notebook_tqdm\n"
     ]
    }
   ],
   "source": [
    "import pipeline as pl\n",
    "import datapoint_clusterer as cl"
   ]
  },
  {
   "attachments": {},
   "cell_type": "markdown",
   "metadata": {},
   "source": [
    "### embedding datapoints and writing them to file"
   ]
  },
  {
   "cell_type": "code",
   "execution_count": 3,
   "metadata": {},
   "outputs": [
    {
     "name": "stdout",
     "output_type": "stream",
     "text": [
      "Written succesfully!\n"
     ]
    }
   ],
   "source": [
    "pl.write_datapoints('faces/train', 'points.pkl')"
   ]
  },
  {
   "attachments": {},
   "cell_type": "markdown",
   "metadata": {},
   "source": [
    "### clustering datapoints from file"
   ]
  },
  {
   "cell_type": "code",
   "execution_count": 4,
   "metadata": {},
   "outputs": [
    {
     "name": "stdout",
     "output_type": "stream",
     "text": [
      "Read!!\n",
      "Written succesfully!\n"
     ]
    }
   ],
   "source": [
    "pl.cluster_from_file('points.pkl', 'clusters.pkl', 16)"
   ]
  },
  {
   "attachments": {},
   "cell_type": "markdown",
   "metadata": {},
   "source": [
    "### reading clusters from `clusters.pkl`"
   ]
  },
  {
   "cell_type": "code",
   "execution_count": 5,
   "metadata": {},
   "outputs": [
    {
     "name": "stdout",
     "output_type": "stream",
     "text": [
      "Read!!\n"
     ]
    }
   ],
   "source": [
    "clusters = cl.read_clusters('clusters.pkl')"
   ]
  },
  {
   "attachments": {},
   "cell_type": "markdown",
   "metadata": {},
   "source": [
    "### Image corresponding to cluster id"
   ]
  },
  {
   "cell_type": "code",
   "execution_count": 6,
   "metadata": {},
   "outputs": [
    {
     "name": "stdout",
     "output_type": "stream",
     "text": [
      "faces/train/Jennifer Lawrence/039_f2610531.jpg -1\n",
      "faces/train/Jennifer Lawrence/038_ca50cc93.jpg 0\n",
      "faces/train/Hugh Jackman/090_916ba69a.jpg 1\n",
      "faces/train/Angelina Jolie/004_f61e7d0c.jpg 2\n",
      "faces/train/Brad Pitt/008_31e90c6b.jpg 3\n",
      "faces/train/Johnny Depp/003_64926b97.jpg 4\n"
     ]
    }
   ],
   "source": [
    "for cluster in clusters:\n",
    "    print(cluster.paths[0], cluster.id)"
   ]
  },
  {
   "attachments": {},
   "cell_type": "markdown",
   "metadata": {},
   "source": [
    "Noise: -1  \n",
    "Jennifer Lawrence: 0  \n",
    "Hugh Jackman: 1  \n",
    "Angelina Jolie: 2  \n",
    "Brad Pitt: 3  \n",
    "Johnny Depp: 4  "
   ]
  },
  {
   "attachments": {},
   "cell_type": "markdown",
   "metadata": {},
   "source": [
    "### Testing for new images of same faces"
   ]
  },
  {
   "cell_type": "code",
   "execution_count": 7,
   "metadata": {},
   "outputs": [],
   "source": [
    "import os"
   ]
  },
  {
   "cell_type": "code",
   "execution_count": 8,
   "metadata": {},
   "outputs": [
    {
     "name": "stdout",
     "output_type": "stream",
     "text": [
      "0 faces/val/Jennifer Lawrence/080_7e43a953.jpg\n",
      "0 faces/val/Jennifer Lawrence/027_3290d1bc.jpg\n",
      "0 faces/val/Jennifer Lawrence/074_ed2be25f.jpg\n",
      "0 faces/val/Jennifer Lawrence/022_e214ba9f.jpg\n",
      "0 faces/val/Jennifer Lawrence/055_7b8dfc3a.jpg\n",
      "0 faces/val/Jennifer Lawrence/085_b2827d47.jpg\n",
      "0 faces/val/Jennifer Lawrence/091_e8f3497f.jpg\n",
      "0 faces/val/Jennifer Lawrence/047_6e08a927.jpg\n",
      "0 faces/val/Jennifer Lawrence/043_cccb0e88.jpg\n",
      "0 faces/val/Jennifer Lawrence/069_bdd7c91d.jpg\n",
      "0 faces/val/Jennifer Lawrence/014_0100b141.jpg\n",
      "0 faces/val/Jennifer Lawrence/050_f545b0ea.jpg\n",
      "0 faces/val/Jennifer Lawrence/089_152cf5f6.jpg\n",
      "0 faces/val/Jennifer Lawrence/082_2251d7b7.jpg\n",
      "0 faces/val/Jennifer Lawrence/040_b392a367.jpg\n",
      "0 faces/val/Jennifer Lawrence/094_c0a66044.jpg\n",
      "0 faces/val/Jennifer Lawrence/097_f19b4cfc.jpg\n",
      "0 faces/val/Jennifer Lawrence/052_f7f4e937.jpg\n",
      "0 faces/val/Jennifer Lawrence/075_5a5afdfa.jpg\n",
      "0 faces/val/Jennifer Lawrence/051_2aace444.jpg\n",
      "1 faces/val/Hugh Jackman/014_07f2f9cb.jpg\n",
      "1 faces/val/Hugh Jackman/091_2ace2ad8.jpg\n",
      "1 faces/val/Hugh Jackman/047_54ea04fa.jpg\n",
      "1 faces/val/Hugh Jackman/097_21a9bff5.jpg\n",
      "1 faces/val/Hugh Jackman/082_bf5ea9df.jpg\n",
      "1 faces/val/Hugh Jackman/040_4baf02be.jpg\n",
      "1 faces/val/Hugh Jackman/075_31d85976.jpg\n",
      "1 faces/val/Hugh Jackman/085_394c2c3c.jpg\n",
      "1 faces/val/Hugh Jackman/027_ded82a08.jpg\n",
      "1 faces/val/Hugh Jackman/080_52addc92.jpg\n",
      "1 faces/val/Hugh Jackman/043_1d38d614.jpg\n",
      "1 faces/val/Hugh Jackman/069_429fc9ee.jpg\n",
      "1 faces/val/Hugh Jackman/052_f394c931.jpg\n",
      "1 faces/val/Hugh Jackman/094_bcb2a8f4.jpg\n",
      "1 faces/val/Hugh Jackman/089_a49ffdf2.jpg\n",
      "1 faces/val/Hugh Jackman/022_9b0e7dc8.jpg\n",
      "1 faces/val/Hugh Jackman/051_12956682.jpg\n",
      "1 faces/val/Hugh Jackman/074_d205687c.jpg\n",
      "1 faces/val/Hugh Jackman/050_509d326a.jpg\n",
      "1 faces/val/Hugh Jackman/055_bfeb8aab.jpg\n",
      "2 faces/val/Angelina Jolie/047_5350c8c0.jpg\n",
      "2 faces/val/Angelina Jolie/097_9a6bf61f.jpg\n",
      "2 faces/val/Angelina Jolie/050_7c5b026c.jpg\n",
      "2 faces/val/Angelina Jolie/014_0d29db88.jpg\n",
      "2 faces/val/Angelina Jolie/094_c255b703.jpg\n",
      "2 faces/val/Angelina Jolie/082_047778bb.jpg\n",
      "2 faces/val/Angelina Jolie/075_4c504eec.jpg\n",
      "2 faces/val/Angelina Jolie/089_33e36564.jpg\n",
      "2 faces/val/Angelina Jolie/055_aaaf063c.jpg\n",
      "2 faces/val/Angelina Jolie/085_f579db33.jpg\n",
      "2 faces/val/Angelina Jolie/051_268fdfd7.jpg\n",
      "2 faces/val/Angelina Jolie/091_b5b4a62f.jpg\n",
      "2 faces/val/Angelina Jolie/040_2ef814c7.jpg\n",
      "2 faces/val/Angelina Jolie/043_b812749f.jpg\n",
      "2 faces/val/Angelina Jolie/080_e998ab00.jpg\n",
      "2 faces/val/Angelina Jolie/052_6db5f5bf.jpg\n",
      "2 faces/val/Angelina Jolie/027_58887f30.jpg\n",
      "2 faces/val/Angelina Jolie/022_b497b92e.jpg\n",
      "2 faces/val/Angelina Jolie/069_9d0e44d5.jpg\n",
      "2 faces/val/Angelina Jolie/074_0ec79719.jpg\n",
      "3 faces/val/Brad Pitt/069_8533eee4.jpg\n",
      "3 faces/val/Brad Pitt/050_3e39c960.jpg\n",
      "3 faces/val/Brad Pitt/055_14a5e7bc.jpg\n",
      "3 faces/val/Brad Pitt/094_16e562f0.jpg\n",
      "3 faces/val/Brad Pitt/022_a8206d1a.jpg\n",
      "3 faces/val/Brad Pitt/051_fd8a292f.jpg\n",
      "3 faces/val/Brad Pitt/085_5c4b6432.jpg\n",
      "3 faces/val/Brad Pitt/097_df404aa1.jpg\n",
      "3 faces/val/Brad Pitt/040_9b4bfe5b.jpg\n",
      "3 faces/val/Brad Pitt/080_569bb446.jpg\n",
      "3 faces/val/Brad Pitt/043_6973a308.jpg\n",
      "3 faces/val/Brad Pitt/074_6f4720aa.jpg\n",
      "3 faces/val/Brad Pitt/089_7a7d2c5d.jpg\n",
      "3 faces/val/Brad Pitt/075_a7a83d60.jpg\n",
      "3 faces/val/Brad Pitt/027_78f200c3.jpg\n",
      "3 faces/val/Brad Pitt/091_8561b34e.jpg\n",
      "3 faces/val/Brad Pitt/082_545afee5.jpg\n",
      "3 faces/val/Brad Pitt/047_80045019.jpg\n",
      "3 faces/val/Brad Pitt/052_b80b0a3f.jpg\n",
      "3 faces/val/Brad Pitt/014_871b0d80.jpg\n",
      "4 faces/val/Johnny Depp/082_742073a1.jpg\n",
      "4 faces/val/Johnny Depp/051_2505e244.jpg\n",
      "4 faces/val/Johnny Depp/050_6641bd32.jpg\n",
      "4 faces/val/Johnny Depp/052_e2e5ef6b.jpg\n",
      "4 faces/val/Johnny Depp/080_38c2109a.jpg\n",
      "4 faces/val/Johnny Depp/094_42a45a8d.jpg\n",
      "4 faces/val/Johnny Depp/089_2f2e823a.jpg\n",
      "4 faces/val/Johnny Depp/074_bd6f3a84.jpg\n",
      "4 faces/val/Johnny Depp/047_6c6a66d2.jpg\n",
      "4 faces/val/Johnny Depp/069_2b2270ce.jpg\n",
      "4 faces/val/Johnny Depp/022_a0763313.jpg\n",
      "-1 faces/val/Johnny Depp/043_77e393de.jpg\n",
      "4 faces/val/Johnny Depp/014_68248214.jpg\n",
      "4 faces/val/Johnny Depp/091_c3ad83af.jpg\n",
      "4 faces/val/Johnny Depp/055_cf9af56c.jpg\n",
      "4 faces/val/Johnny Depp/085_e9f6ea07.jpg\n",
      "4 faces/val/Johnny Depp/075_21e87f0f.jpg\n",
      "4 faces/val/Johnny Depp/040_2e8934ea.jpg\n",
      "4 faces/val/Johnny Depp/097_11415581.jpg\n",
      "4 faces/val/Johnny Depp/027_2eab41f9.jpg\n"
     ]
    }
   ],
   "source": [
    "for root, d_names, f_names in os.walk('faces/val'):\n",
    "    for f in f_names:\n",
    "        imgpath = os.path.join(root, f)\n",
    "        print(pl.get_cluster_ids(clusters,imgpath)[0], imgpath)"
   ]
  },
  {
   "attachments": {},
   "cell_type": "markdown",
   "metadata": {},
   "source": [
    "## Clusterer is classifying correctly"
   ]
  },
  {
   "attachments": {},
   "cell_type": "markdown",
   "metadata": {},
   "source": [
    "### Testing for new faces"
   ]
  },
  {
   "cell_type": "code",
   "execution_count": 9,
   "metadata": {},
   "outputs": [
    {
     "data": {
      "text/plain": [
       "array([-1])"
      ]
     },
     "execution_count": 9,
     "metadata": {},
     "output_type": "execute_result"
    }
   ],
   "source": [
    "pl.get_cluster_ids(clusters, 'photos/me1.jpg')\n"
   ]
  },
  {
   "attachments": {},
   "cell_type": "markdown",
   "metadata": {},
   "source": [
    "Classifies as noise"
   ]
  }
 ],
 "metadata": {
  "kernelspec": {
   "display_name": "cvenv",
   "language": "python",
   "name": "python3"
  },
  "language_info": {
   "codemirror_mode": {
    "name": "ipython",
    "version": 3
   },
   "file_extension": ".py",
   "mimetype": "text/x-python",
   "name": "python",
   "nbconvert_exporter": "python",
   "pygments_lexer": "ipython3",
   "version": "3.10.10"
  },
  "orig_nbformat": 4
 },
 "nbformat": 4,
 "nbformat_minor": 2
}
