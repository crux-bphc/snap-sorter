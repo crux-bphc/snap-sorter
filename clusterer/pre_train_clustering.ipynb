{
 "cells": [
  {
   "cell_type": "code",
   "execution_count": 1,
   "metadata": {},
   "outputs": [
    {
     "name": "stderr",
     "output_type": "stream",
     "text": [
      "c:\\Users\\adity\\anaconda3\\envs\\snap-sorter-winenv-py310\\lib\\site-packages\\tqdm\\auto.py:21: TqdmWarning: IProgress not found. Please update jupyter and ipywidgets. See https://ipywidgets.readthedocs.io/en/stable/user_install.html\n",
      "  from .autonotebook import tqdm as notebook_tqdm\n"
     ]
    }
   ],
   "source": [
    "from inference import EmbeddingPipeline\n",
    "import pipeline as pl\n",
    "import datapoint_clusterer as dc\n",
    "import os\n",
    "from model import FaceNet\n",
    "import matplotlib.pyplot as plt"
   ]
  },
  {
   "cell_type": "code",
   "execution_count": 2,
   "metadata": {},
   "outputs": [],
   "source": [
    "#facenet = FaceNet()\n",
    "embedding_pipeline = EmbeddingPipeline()"
   ]
  },
  {
   "cell_type": "code",
   "execution_count": 2,
   "metadata": {},
   "outputs": [],
   "source": [
    "rootdir = r\"C:\\Users\\adity\\Downloads\\indian-actors-kaggle\\Bollywood Actor Images\\Bollywood Actor Images\""
   ]
  },
  {
   "cell_type": "code",
   "execution_count": 5,
   "metadata": {},
   "outputs": [
    {
     "name": "stdout",
     "output_type": "stream",
     "text": [
      "<class 'exception.FaceNotFoundError'>\n",
      "Face not found in path: C:\\Users\\adity\\Downloads\\indian-actors-kaggle\\Bollywood Actor Images\\Bollywood Actor Images\\ajay_devgn\\73ff590284.jpg\n",
      "<class 'exception.FaceNotFoundError'>\n",
      "Face not found in path: C:\\Users\\adity\\Downloads\\indian-actors-kaggle\\Bollywood Actor Images\\Bollywood Actor Images\\akshaye_khanna\\0d9ed60471.jpg\n",
      "<class 'exception.FaceNotFoundError'>\n",
      "Face not found in path: C:\\Users\\adity\\Downloads\\indian-actors-kaggle\\Bollywood Actor Images\\Bollywood Actor Images\\amrish_puri\\1d8aa8da2d.jpg\n",
      "<class 'exception.FaceNotFoundError'>\n",
      "Face not found in path: C:\\Users\\adity\\Downloads\\indian-actors-kaggle\\Bollywood Actor Images\\Bollywood Actor Images\\chunky_panday\\5c0e7f0668.jpg\n",
      "<class 'exception.FaceNotFoundError'>\n",
      "Face not found in path: C:\\Users\\adity\\Downloads\\indian-actors-kaggle\\Bollywood Actor Images\\Bollywood Actor Images\\farida_jalal\\29a659d84b.jpg\n",
      "<class 'exception.FaceNotFoundError'>\n",
      "Face not found in path: C:\\Users\\adity\\Downloads\\indian-actors-kaggle\\Bollywood Actor Images\\Bollywood Actor Images\\jaspal_bhatti\\862ed79e36.jpg\n",
      "<class 'exception.FaceNotFoundError'>\n",
      "Face not found in path: C:\\Users\\adity\\Downloads\\indian-actors-kaggle\\Bollywood Actor Images\\Bollywood Actor Images\\jaspal_bhatti\\9a1866a6d8.jpg\n",
      "<class 'exception.FaceNotFoundError'>\n",
      "Face not found in path: C:\\Users\\adity\\Downloads\\indian-actors-kaggle\\Bollywood Actor Images\\Bollywood Actor Images\\mehmood\\4a6462bb20.jpg\n",
      "<class 'exception.FaceNotFoundError'>\n",
      "Face not found in path: C:\\Users\\adity\\Downloads\\indian-actors-kaggle\\Bollywood Actor Images\\Bollywood Actor Images\\nawazuddin_siddiqui\\3951dc1fe9.jpg\n",
      "<class 'exception.FaceNotFoundError'>\n",
      "Face not found in path: C:\\Users\\adity\\Downloads\\indian-actors-kaggle\\Bollywood Actor Images\\Bollywood Actor Images\\prabhu_deva\\3dbc597656.jpg\n",
      "<class 'exception.FaceNotFoundError'>\n",
      "Face not found in path: C:\\Users\\adity\\Downloads\\indian-actors-kaggle\\Bollywood Actor Images\\Bollywood Actor Images\\raaj_kumar\\8cd3142323.jpg\n",
      "<class 'exception.FaceNotFoundError'>\n",
      "Face not found in path: C:\\Users\\adity\\Downloads\\indian-actors-kaggle\\Bollywood Actor Images\\Bollywood Actor Images\\rajesh_khanna\\160d5fc5e2.jpg\n",
      "<class 'exception.FaceNotFoundError'>\n",
      "Face not found in path: C:\\Users\\adity\\Downloads\\indian-actors-kaggle\\Bollywood Actor Images\\Bollywood Actor Images\\ranveer_singh\\7bee42d9c4.jpg\n",
      "<class 'exception.FaceNotFoundError'>\n",
      "Face not found in path: C:\\Users\\adity\\Downloads\\indian-actors-kaggle\\Bollywood Actor Images\\Bollywood Actor Images\\sanjay_mishra\\289e89c1d5.jpg\n",
      "<class 'exception.FaceNotFoundError'>\n",
      "Face not found in path: C:\\Users\\adity\\Downloads\\indian-actors-kaggle\\Bollywood Actor Images\\Bollywood Actor Images\\sharmila_tagore\\6e1832e2ff.jpg\n",
      "<class 'exception.FaceNotFoundError'>\n",
      "Face not found in path: C:\\Users\\adity\\Downloads\\indian-actors-kaggle\\Bollywood Actor Images\\Bollywood Actor Images\\sharmila_tagore\\a57ec87230.jpg\n",
      "<class 'exception.FaceNotFoundError'>\n",
      "Face not found in path: C:\\Users\\adity\\Downloads\\indian-actors-kaggle\\Bollywood Actor Images\\Bollywood Actor Images\\tinnu_anand\\1a25f7a30d.jpg\n",
      "<class 'exception.FaceNotFoundError'>\n",
      "Face not found in path: C:\\Users\\adity\\Downloads\\indian-actors-kaggle\\Bollywood Actor Images\\Bollywood Actor Images\\utpal_dutt\\15a482f1c7.jpg\n",
      "Written succesfully!\n"
     ]
    }
   ],
   "source": [
    "pl.write_datapoints(rootdir, \"datapoints.pkl\")"
   ]
  },
  {
   "cell_type": "code",
   "execution_count": 12,
   "metadata": {},
   "outputs": [
    {
     "name": "stdout",
     "output_type": "stream",
     "text": [
      "Read!!\n",
      "Written succesfully!\n"
     ]
    }
   ],
   "source": [
    "pl.cluster_from_file(\"datapoints.pkl\", \"clusters.pkl\", 15, 5)\n",
    "clusters = dc.read_clusters(\"clusters.pkl\")\n",
    "print(\"{} clusters made\".format(len(clusters)))\n",
    "for cluster in clusters:\n",
    "    print(cluster.id, \":\", cluster.size)"
   ]
  },
  {
   "cell_type": "code",
   "execution_count": null,
   "metadata": {},
   "outputs": [],
   "source": [
    "num_clusters = []\n",
    "eps = []\n",
    "\n",
    "for i in range(2, 30, 2): \n",
    "    pl.cluster_from_file(\"datapoints.pkl\", \"clusters.pkl\", i, 5)\n",
    "    clusters = dc.read_clusters(\"clusters.pkl\")\n",
    "    eps.append(i)\n",
    "    num_clusters.append(len(clusters))\n",
    "    print(\"{} clusters made\".format(len(clusters)))\n",
    "    for cluster in clusters:\n",
    "        print(cluster.id, \":\", cluster.size)\n",
    "    print()\n"
   ]
  },
  {
   "cell_type": "code",
   "execution_count": null,
   "metadata": {},
   "outputs": [],
   "source": [
    "plt.plot(eps, num_clusters)\n",
    "plt.xlabel(\"epsilon\")\n",
    "plt.ylabel(\"num_clusters\")\n",
    "plt.show()"
   ]
  },
  {
   "cell_type": "code",
   "execution_count": null,
   "metadata": {},
   "outputs": [],
   "source": [
    "for root, _, filenames in os.walk(rootdir):\n",
    "    for filename in filenames:\n",
    "        path = os.path.join(root, filename)\n",
    "        try:\n",
    "            print(f\"path: {path}\\tids: {pl.get_cluster_ids(clusters, path)}\")\n",
    "        except Exception as e:\n",
    "            print(e)"
   ]
  },
  {
   "cell_type": "code",
   "execution_count": null,
   "metadata": {},
   "outputs": [],
   "source": []
  }
 ],
 "metadata": {
  "kernelspec": {
   "display_name": "snap-sorter-winenv-py310",
   "language": "python",
   "name": "python3"
  },
  "language_info": {
   "codemirror_mode": {
    "name": "ipython",
    "version": 3
   },
   "file_extension": ".py",
   "mimetype": "text/x-python",
   "name": "python",
   "nbconvert_exporter": "python",
   "pygments_lexer": "ipython3",
   "version": "3.10.11"
  },
  "orig_nbformat": 4
 },
 "nbformat": 4,
 "nbformat_minor": 2
}
